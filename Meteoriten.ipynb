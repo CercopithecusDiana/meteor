{
 "cells": [
  {
   "cell_type": "code",
   "execution_count": 1,
   "metadata": {},
   "outputs": [],
   "source": [
    "import pandas as pd\n",
    "import numpy as np\n",
    "# %matplotlib inline \n",
    "import matplotlib.pyplot as plt \n",
    "import seaborn\n",
    "from ipyleaflet import Map, basemaps, basemap_to_tiles, CircleMarker\n",
    "\n",
    "from ipyleaflet import (Map, DrawControl)\n",
    "import pandas as pd\n",
    "#import geopandas as gpd\n",
    "import matplotlib.pyplot as plt\n",
    "%matplotlib inline\n",
    "import mplleaflet\n",
    "import math"
   ]
  },
  {
   "cell_type": "code",
   "execution_count": 2,
   "metadata": {},
   "outputs": [],
   "source": [
    "#Meteorite_Landings.csv"
   ]
  },
  {
   "cell_type": "code",
   "execution_count": 3,
   "metadata": {
    "scrolled": true
   },
   "outputs": [],
   "source": [
    "!head -4 data/Meteorite_Landings3.csv"
   ]
  },
  {
   "cell_type": "code",
   "execution_count": 4,
   "metadata": {},
   "outputs": [],
   "source": [
    "data = pd.read_csv('data/Meteorite_Landings.csv')"
   ]
  },
  {
   "cell_type": "code",
   "execution_count": 24,
   "metadata": {},
   "outputs": [],
   "source": [
    "name = np.array(data['name'])\n",
    "nr= np.array(data['nr'])\n",
    "Id= np.array(data['Id'])\n",
    "nametype = np.array(data['nametype'])\n",
    "recclass = np.array(data['recclass'])\n",
    "massInG = np.array(data['massInG'])\n",
    "fall = np.array(data['fall'])\n",
    "year = np.array(data['year'])\n",
    "reclat = np.array(data['reclat'])\n",
    "reclong = np.array(data['reclong'])\n",
    "GeoLocation = np.array(data['GeoLocation'])"
   ]
  },
  {
   "cell_type": "code",
   "execution_count": 6,
   "metadata": {},
   "outputs": [],
   "source": [
    "seaborn.set()"
   ]
  },
  {
   "cell_type": "code",
   "execution_count": null,
   "metadata": {},
   "outputs": [],
   "source": []
  },
  {
   "cell_type": "code",
   "execution_count": 7,
   "metadata": {},
   "outputs": [
    {
     "data": {
      "text/plain": [
       "Index(['nr', 'name', 'Id', 'nametype', 'recclass', 'massInG', 'fall', 'year',\n",
       "       'reclat', 'reclong', 'GeoLocation', 'Unnamed: 11', 'Unnamed: 12'],\n",
       "      dtype='object')"
      ]
     },
     "execution_count": 7,
     "metadata": {},
     "output_type": "execute_result"
    }
   ],
   "source": [
    "data.columns"
   ]
  },
  {
   "cell_type": "code",
   "execution_count": 8,
   "metadata": {},
   "outputs": [
    {
     "name": "stdout",
     "output_type": "stream",
     "text": [
      "45716\n"
     ]
    }
   ],
   "source": [
    "print(nr[-1])"
   ]
  },
  {
   "cell_type": "code",
   "execution_count": 9,
   "metadata": {},
   "outputs": [],
   "source": [
    "#data.drop(massInG[77], axis=0)"
   ]
  },
  {
   "cell_type": "code",
   "execution_count": 10,
   "metadata": {},
   "outputs": [],
   "source": [
    "#for i in range(0, 45715):\n",
    " #   if (reclat[i] == 0):\n",
    "           # print(nr[i],' ',reclat[i])\n",
    "            #data.drop([77], axis=0)\n",
    "            #m = float((massInG[i])\n",
    "            #a.append(m)\n",
    "            #a.append(int(massInG[i]))\n",
    "            #a.append(float(massInG[i]))\n",
    "            #b.append(nr)"
   ]
  },
  {
   "cell_type": "code",
   "execution_count": 11,
   "metadata": {
    "scrolled": false
   },
   "outputs": [],
   "source": [
    "#for i in range(0, 45715):\n",
    " #   if (math.isnan(reclat[i])):\n",
    "            #print(nr[i],' ',reclat[i])"
   ]
  },
  {
   "cell_type": "code",
   "execution_count": null,
   "metadata": {},
   "outputs": [],
   "source": []
  },
  {
   "cell_type": "code",
   "execution_count": 12,
   "metadata": {},
   "outputs": [],
   "source": [
    "#data.fillna(0, inplace=True)\n",
    "#data['massInG'].fillna(0, inplace=True)"
   ]
  },
  {
   "cell_type": "code",
   "execution_count": 13,
   "metadata": {},
   "outputs": [
    {
     "name": "stdout",
     "output_type": "stream",
     "text": [
      "173 nan\n",
      "3463 nan\n",
      "3475 nan\n",
      "5081 nan\n",
      "5082 nan\n",
      "5161 nan\n",
      "5220 nan\n",
      "5305 nan\n",
      "5470 nan\n",
      "5506 nan\n",
      "5517 nan\n",
      "5621 nan\n",
      "5701 nan\n",
      "5702 nan\n",
      "6853 nan\n",
      "6886 nan\n",
      "9170 nan\n",
      "9220 nan\n",
      "12550 nan\n",
      "12553 nan\n",
      "12609 nan\n",
      "15942 nan\n",
      "15947 nan\n",
      "15948 nan\n",
      "15963 nan\n",
      "16365 nan\n",
      "16377 nan\n",
      "16378 nan\n",
      "16413 nan\n",
      "16483 nan\n",
      "16559 nan\n",
      "17265 nan\n",
      "17289 nan\n",
      "17357 nan\n",
      "17379 nan\n",
      "17407 nan\n",
      "17478 nan\n",
      "19722 nan\n",
      "22947 nan\n",
      "26275 nan\n",
      "26403 nan\n",
      "28737 nan\n",
      "31015 nan\n",
      "31016 nan\n",
      "31017 nan\n",
      "31018 nan\n",
      "31019 nan\n",
      "31020 nan\n",
      "31021 nan\n",
      "31022 nan\n",
      "31023 nan\n",
      "31024 nan\n",
      "31025 nan\n",
      "31026 nan\n",
      "31027 nan\n",
      "31028 nan\n",
      "31029 nan\n",
      "31030 nan\n",
      "31031 nan\n",
      "31032 nan\n",
      "31033 nan\n",
      "31034 nan\n",
      "31035 nan\n",
      "31036 nan\n",
      "31037 nan\n",
      "31038 nan\n",
      "31039 nan\n",
      "31040 nan\n",
      "31041 nan\n",
      "31042 nan\n",
      "31043 nan\n",
      "31044 nan\n",
      "31045 nan\n",
      "31046 nan\n",
      "31047 nan\n",
      "31048 nan\n",
      "31049 nan\n",
      "31050 nan\n",
      "31051 nan\n",
      "31052 nan\n",
      "31053 nan\n",
      "31054 nan\n",
      "31055 nan\n",
      "31056 nan\n",
      "31057 nan\n",
      "31058 nan\n",
      "31059 nan\n",
      "31060 nan\n",
      "31061 nan\n",
      "31099 nan\n",
      "31143 nan\n",
      "31148 nan\n",
      "36813 nan\n",
      "38195 nan\n",
      "38283 nan\n",
      "38284 nan\n",
      "38286 nan\n",
      "41473 nan\n",
      "45699 nan\n"
     ]
    }
   ],
   "source": [
    "for i in range(0, 45716):\n",
    "    if math.isnan(massInG[i]):\n",
    "            print(nr[i], massInG[i])"
   ]
  },
  {
   "cell_type": "code",
   "execution_count": null,
   "metadata": {},
   "outputs": [],
   "source": []
  },
  {
   "cell_type": "code",
   "execution_count": 14,
   "metadata": {},
   "outputs": [
    {
     "data": {
      "text/plain": [
       "<matplotlib.collections.PathCollection at 0x7f459be7b8d0>"
      ]
     },
     "execution_count": 14,
     "metadata": {},
     "output_type": "execute_result"
    },
    {
     "data": {
      "image/png": "[encoded data removed]",
      "text/plain": [
       "<Figure size 432x288 with 1 Axes>"
      ]
     },
     "metadata": {},
     "output_type": "display_data"
    }
   ],
   "source": [
    "seaborn.set()\n",
    "\n",
    "plt.title('Meteoritenfall')\n",
    "plt.ylabel('nr')\n",
    "plt.xlabel('massInG')\n",
    "plt.scatter(nr, massInG)"
   ]
  },
  {
   "cell_type": "code",
   "execution_count": 15,
   "metadata": {},
   "outputs": [
    {
     "data": {
      "text/plain": [
       "<matplotlib.collections.PathCollection at 0x7f459bdda1d0>"
      ]
     },
     "execution_count": 15,
     "metadata": {},
     "output_type": "execute_result"
    },
    {
     "data": {
      "image/png": "[encoded data removed]",
      "text/plain": [
       "<Figure size 432x288 with 1 Axes>"
      ]
     },
     "metadata": {},
     "output_type": "display_data"
    }
   ],
   "source": [
    "seaborn.set()\n",
    "\n",
    "plt.title('Meteoritenfall')\n",
    "plt.ylabel('nr')\n",
    "plt.xlabel('massInG')\n",
    "plt.scatter(massInG, nr)\n",
    "\n",
    "#plt.plot(corona_zeit, corona_genesene)\n",
    "#plt.plot(corona_zeit, corona_tote)"
   ]
  },
  {
   "cell_type": "code",
   "execution_count": null,
   "metadata": {},
   "outputs": [],
   "source": []
  },
  {
   "cell_type": "code",
   "execution_count": 16,
   "metadata": {},
   "outputs": [],
   "source": [
    "from ipyleaflet import Map, basemaps, basemap_to_tiles, CircleMarker\n",
    "#watercolor = basemap_to_tiles(basemaps.Stamen.Watercolor)\n",
    "\n",
    "myMap = Map(center=[50.928780, 11.58990], zoom=1000)\n",
    "dc=DrawControl(circle={'shapeOption':{'color':'#0000FF'}})\n",
    "myMap.add_control(dc)"
   ]
  },
  {
   "cell_type": "code",
   "execution_count": null,
   "metadata": {},
   "outputs": [],
   "source": []
  },
  {
   "cell_type": "code",
   "execution_count": 17,
   "metadata": {},
   "outputs": [
    {
     "data": {
      "application/vnd.jupyter.widget-view+json": {
       "model_id": "95b17264335e498e87c87c8025c1bf4d",
       "version_major": 2,
       "version_minor": 0
      },
      "text/plain": [
       "Map(center=[50.92878, 11.5899], controls=(ZoomControl(options=['position', 'zoom_in_text', 'zoom_in_title', 'z…"
      ]
     },
     "metadata": {},
     "output_type": "display_data"
    }
   ],
   "source": [
    "from ipyleaflet import Map, basemaps, basemap_to_tiles, CircleMarker\n",
    "\n",
    "myMap = Map(center=[50.928780, 11.58990], zoom=2)\n",
    "dc=DrawControl(circle={'shapeOption':{'color':'#0000FF'}})\n",
    "myMap.add_control(dc)\n",
    "\n",
    "#circle_marker = CircleMarker()\n",
    "\n",
    "for i in data.nr:\n",
    "    if (math.isnan((reclat[i]))) or (math.isnan(int(reclong[i]))):\n",
    "        continue\n",
    "    if i >100:\n",
    "        break\n",
    "    else:\n",
    "        circle_marker = CircleMarker()\n",
    "        circle_marker.location = int(reclat[i]),int(reclong[i])\n",
    "        circle_marker.radius = 2\n",
    "        circle_marker.color = \"red\"\n",
    "        circle_marker.fill_color = \"red\"\n",
    "        myMap.add_layer(circle_marker)\n",
    "        \n",
    "myMap"
   ]
  },
  {
   "cell_type": "code",
   "execution_count": 18,
   "metadata": {},
   "outputs": [
    {
     "data": {
      "application/vnd.jupyter.widget-view+json": {
       "model_id": "c6e4be5d9f224f788bb6b63994e139fd",
       "version_major": 2,
       "version_minor": 0
      },
      "text/plain": [
       "Map(center=[50.92878, 11.5899], controls=(ZoomControl(options=['position', 'zoom_in_text', 'zoom_in_title', 'z…"
      ]
     },
     "metadata": {},
     "output_type": "display_data"
    }
   ],
   "source": [
    "from ipyleaflet import Map, basemaps, basemap_to_tiles, CircleMarker\n",
    "\n",
    "myMap = Map(center=[50.928780, 11.58990], zoom=2)\n",
    "dc=DrawControl(circle={'shapeOption':{'color':'#0000FF'}})\n",
    "myMap.add_control(dc)\n",
    "\n",
    "#circle_marker = CircleMarker()\n",
    "\n",
    "for i in data.nr:\n",
    "    if (math.isnan((reclat[i]))) or (math.isnan(int(reclong[i]))):\n",
    "        continue\n",
    "    if i >100:\n",
    "        break\n",
    "    else:\n",
    "        circle_marker = CircleMarker()\n",
    "        circle_marker.location = int(reclat[i]),int(reclong[i])\n",
    "        circle_marker.radius = 2\n",
    "        circle_marker.color = \"red\"\n",
    "        circle_marker.fill_color = \"red\"\n",
    "        myMap.add_layer(circle_marker)\n",
    "        \n",
    "myMap"
   ]
  },
  {
   "cell_type": "code",
   "execution_count": 34,
   "metadata": {},
   "outputs": [
    {
     "name": "stdout",
     "output_type": "stream",
     "text": [
      "54.21666999999999\n"
     ]
    }
   ],
   "source": [
    "print(reclat[2])"
   ]
  },
  {
   "cell_type": "code",
   "execution_count": 20,
   "metadata": {},
   "outputs": [],
   "source": [
    "fobj_in = open(\"data/Meteorite_Landings.csv\")\n",
    "fobj_out = open(\"data/Meteorite_Landings2.csv\",\"w\")\n",
    "i = 0\n",
    "for line in fobj_in:\n",
    "    if reclat[i] == 0:\n",
    "        continue\n",
    "    else:\n",
    "        fobj_out.write(line) \n",
    "    i = i+1\n",
    "    \n",
    "fobj_in.close()\n",
    "fobj_out.close()"
   ]
  },
  {
   "cell_type": "code",
   "execution_count": 21,
   "metadata": {},
   "outputs": [],
   "source": [
    "fobj_in = open(\"data/Meteorite_Landings.csv\")\n",
    "fobj_out = open(\"data/Meteorite_Landings3.csv\",\"w\")\n",
    "i = 0\n",
    "for line in fobj_in:\n",
    "    if math.isnan(reclat[i])==False:\n",
    "        continue\n",
    "    else:\n",
    "        fobj_out.write(line) \n",
    "    i = i+1\n",
    "fobj_in.close()\n",
    "fobj_out.close()"
   ]
  },
  {
   "cell_type": "code",
   "execution_count": 35,
   "metadata": {},
   "outputs": [],
   "source": [
    "fobj_in = open(\"data/Meteorite_Landings.csv\")\n",
    "fobj_out = open(\"data/Meteorite_Landings2.csv\",\"w\")\n",
    "i = 0\n",
    "for line in fobj_in:\n",
    "    if math.isnan(reclat[i]):\n",
    "        #print(reclat[i])\n",
    "        continue\n",
    "    else:\n",
    "        fobj_out.write(line) \n",
    "    i = i+1\n",
    "    \n",
    "fobj_in.close()\n",
    "fobj_out.close()"
   ]
  },
  {
   "cell_type": "code",
   "execution_count": null,
   "metadata": {},
   "outputs": [],
   "source": []
  },
  {
   "cell_type": "code",
   "execution_count": null,
   "metadata": {},
   "outputs": [],
   "source": []
  },
  {
   "cell_type": "code",
   "execution_count": null,
   "metadata": {},
   "outputs": [],
   "source": []
  },
  {
   "cell_type": "code",
   "execution_count": null,
   "metadata": {},
   "outputs": [],
   "source": []
  },
  {
   "cell_type": "code",
   "execution_count": null,
   "metadata": {},
   "outputs": [],
   "source": []
  },
  {
   "cell_type": "code",
   "execution_count": null,
   "metadata": {},
   "outputs": [],
   "source": [
    "fobj_in = open(\"data/Meteorite_Landings.csv\")\n",
    "fobj_out = open(\"data/Meteorite_Landings2.csv\",\"w\")\n",
    "i = 0\n",
    "for line in fobj_in:\n",
    "    if math.isnan(reclat[i]):\n",
    "        print(reclat[i])\n",
    "        continue\n",
    "    else:\n",
    "        fobj_out.write(line) \n",
    "    i = i+1\n",
    "    \n",
    "fobj_in.close()\n",
    "fobj_out.close()"
   ]
  },
  {
   "cell_type": "code",
   "execution_count": null,
   "metadata": {},
   "outputs": [],
   "source": []
  },
  {
   "cell_type": "code",
   "execution_count": 30,
   "metadata": {},
   "outputs": [],
   "source": [
    "data = pd.read_csv('data/Meteorite_Landings.csv')"
   ]
  },
  {
   "cell_type": "code",
   "execution_count": null,
   "metadata": {},
   "outputs": [],
   "source": []
  },
  {
   "cell_type": "code",
   "execution_count": 31,
   "metadata": {},
   "outputs": [],
   "source": [
    "name = np.array(data['name'])\n",
    "nr= np.array(data['nr'])\n",
    "Id= np.array(data['Id'])\n",
    "nametype = np.array(data['nametype'])\n",
    "recclass = np.array(data['recclass'])\n",
    "massInG = np.array(data['massInG'])\n",
    "fall = np.array(data['fall'])\n",
    "year = np.array(data['year'])\n",
    "reclat = np.array(data['reclat'])\n",
    "reclong = np.array(data['reclong'])\n",
    "GeoLocation = np.array(data['GeoLocation'])"
   ]
  },
  {
   "cell_type": "code",
   "execution_count": 32,
   "metadata": {},
   "outputs": [],
   "source": [
    "seaborn.set()"
   ]
  },
  {
   "cell_type": "code",
   "execution_count": 33,
   "metadata": {},
   "outputs": [
    {
     "name": "stdout",
     "output_type": "stream",
     "text": [
      "173 nan\n",
      "3463 nan\n",
      "3475 nan\n",
      "5081 nan\n",
      "5082 nan\n",
      "5161 nan\n",
      "5220 nan\n",
      "5305 nan\n",
      "5470 nan\n",
      "5506 nan\n",
      "5517 nan\n",
      "5621 nan\n",
      "5701 nan\n",
      "5702 nan\n",
      "6853 nan\n",
      "6886 nan\n",
      "9170 nan\n",
      "9220 nan\n",
      "12550 nan\n",
      "12553 nan\n",
      "12609 nan\n",
      "15942 nan\n",
      "15947 nan\n",
      "15948 nan\n",
      "15963 nan\n",
      "16365 nan\n",
      "16377 nan\n",
      "16378 nan\n",
      "16413 nan\n",
      "16483 nan\n",
      "16559 nan\n",
      "17265 nan\n",
      "17289 nan\n",
      "17357 nan\n",
      "17379 nan\n",
      "17407 nan\n",
      "17478 nan\n",
      "19722 nan\n",
      "22947 nan\n",
      "26275 nan\n",
      "26403 nan\n",
      "28737 nan\n",
      "31015 nan\n",
      "31016 nan\n",
      "31017 nan\n",
      "31018 nan\n",
      "31019 nan\n",
      "31020 nan\n",
      "31021 nan\n",
      "31022 nan\n",
      "31023 nan\n",
      "31024 nan\n",
      "31025 nan\n",
      "31026 nan\n",
      "31027 nan\n",
      "31028 nan\n",
      "31029 nan\n",
      "31030 nan\n",
      "31031 nan\n",
      "31032 nan\n",
      "31033 nan\n",
      "31034 nan\n",
      "31035 nan\n",
      "31036 nan\n",
      "31037 nan\n",
      "31038 nan\n",
      "31039 nan\n",
      "31040 nan\n",
      "31041 nan\n",
      "31042 nan\n",
      "31043 nan\n",
      "31044 nan\n",
      "31045 nan\n",
      "31046 nan\n",
      "31047 nan\n",
      "31048 nan\n",
      "31049 nan\n",
      "31050 nan\n",
      "31051 nan\n",
      "31052 nan\n",
      "31053 nan\n",
      "31054 nan\n",
      "31055 nan\n",
      "31056 nan\n",
      "31057 nan\n",
      "31058 nan\n",
      "31059 nan\n",
      "31060 nan\n",
      "31061 nan\n",
      "31099 nan\n",
      "31143 nan\n",
      "31148 nan\n",
      "36813 nan\n",
      "38195 nan\n",
      "38283 nan\n",
      "38284 nan\n",
      "38286 nan\n",
      "41473 nan\n",
      "45699 nan\n"
     ]
    }
   ],
   "source": [
    "for i in range(0, 45716):\n",
    "    if math.isnan(massInG[i]):\n",
    "            print(nr[i], massInG[i])"
   ]
  },
  {
   "cell_type": "code",
   "execution_count": null,
   "metadata": {},
   "outputs": [],
   "source": []
  }
 ],
 "metadata": {
  "kernelspec": {
   "display_name": "Python 3",
   "language": "python",
   "name": "python3"
  },
  "language_info": {
   "codemirror_mode": {
    "name": "ipython",
    "version": 3
   },
   "file_extension": ".py",
   "mimetype": "text/x-python",
   "name": "python",
   "nbconvert_exporter": "python",
   "pygments_lexer": "ipython3",
   "version": "3.7.6"
  }
 },
 "nbformat": 4,
 "nbformat_minor": 4
}
